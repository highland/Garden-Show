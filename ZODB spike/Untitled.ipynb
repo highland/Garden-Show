{
 "cells": [
  {
   "cell_type": "code",
   "execution_count": 1,
   "id": "a6b07aea",
   "metadata": {},
   "outputs": [],
   "source": [
    "from ZODB import DB, FileStorage\n",
    "from persistent import Persistent"
   ]
  },
  {
   "cell_type": "code",
   "execution_count": 2,
   "id": "acc9f675",
   "metadata": {},
   "outputs": [],
   "source": [
    "import transaction"
   ]
  },
  {
   "cell_type": "code",
   "execution_count": 3,
   "id": "f98461ed",
   "metadata": {},
   "outputs": [],
   "source": [
    "storage = FileStorage.FileStorage(\"Data/data.fs\")"
   ]
  },
  {
   "cell_type": "code",
   "execution_count": 4,
   "id": "1bceeded",
   "metadata": {},
   "outputs": [],
   "source": [
    "db = DB(storage)"
   ]
  },
  {
   "cell_type": "code",
   "execution_count": 22,
   "id": "64d2fb88",
   "metadata": {},
   "outputs": [],
   "source": [
    "conn = db.open()"
   ]
  },
  {
   "cell_type": "code",
   "execution_count": 23,
   "id": "dd1ada22",
   "metadata": {},
   "outputs": [],
   "source": [
    "root = conn.root()"
   ]
  },
  {
   "cell_type": "code",
   "execution_count": 20,
   "id": "62fad1ad",
   "metadata": {},
   "outputs": [],
   "source": [
    "del root"
   ]
  },
  {
   "cell_type": "code",
   "execution_count": 15,
   "id": "708c0054",
   "metadata": {},
   "outputs": [],
   "source": [
    "root[\"exhibitors\"].append(\"Michael Chest\")"
   ]
  },
  {
   "cell_type": "code",
   "execution_count": 16,
   "id": "943da012",
   "metadata": {},
   "outputs": [],
   "source": [
    "transaction.commit()"
   ]
  },
  {
   "cell_type": "code",
   "execution_count": 24,
   "id": "a0f0817e",
   "metadata": {},
   "outputs": [],
   "source": [
    "conn.close()"
   ]
  },
  {
   "cell_type": "code",
   "execution_count": null,
   "id": "6a25a0d7",
   "metadata": {},
   "outputs": [],
   "source": []
  }
 ],
 "metadata": {
  "kernelspec": {
   "display_name": "Python 3 (ipykernel)",
   "language": "python",
   "name": "python3"
  },
  "language_info": {
   "codemirror_mode": {
    "name": "ipython",
    "version": 3
   },
   "file_extension": ".py",
   "mimetype": "text/x-python",
   "name": "python",
   "nbconvert_exporter": "python",
   "pygments_lexer": "ipython3",
   "version": "3.10.8"
  }
 },
 "nbformat": 4,
 "nbformat_minor": 5
}
